{
 "cells": [
  {
   "cell_type": "code",
   "execution_count": 2,
   "metadata": {},
   "outputs": [
    {
     "name": "stdout",
     "output_type": "stream",
     "text": [
      "1\n",
      "                                             Symbols   \n",
      "0  {\"finance\":{\"result\":{\"currencies\":{\"type\":\"sc...  \\\n",
      "\n",
      "                                  Content  \n",
      "0  [time, open, high, low, close, volume]  \n"
     ]
    }
   ],
   "source": [
    "import requests\n",
    "import csv\n",
    "import pandas as pd\n",
    "import http.client\n",
    "\n",
    "conn = http.client.HTTPSConnection(\"apidojo-yahoo-finance-v1.p.rapidapi.com\")\n",
    "\n",
    "headers = {\n",
    "    'X-RapidAPI-Key': \"0fe2903ab9msh9c1bbeb8d214a20p176adejsn9f377bed3f86\",\n",
    "    'X-RapidAPI-Host': \"apidojo-yahoo-finance-v1.p.rapidapi.com\"\n",
    "}\n",
    "\n",
    "conn.request(\"GET\", \"/market/get-tickers-by-quote-type?region=US&lang=en-US\", headers=headers)\n",
    "\n",
    "res = conn.getresponse()\n",
    "data = res.read()\n",
    "\n",
    "with open('yahoo_finance_data.txt', 'w') as f:\n",
    "    f.write(data.decode(\"utf-8\"))\n",
    "\n",
    "\n",
    "CSV_URL = 'https://www.alphavantage.co/query?function=TIME_SERIES_INTRADAY_EXTENDED&symbol={}&interval=15min&slice=year1month1&apikey=LEDOEFY0L5JHXGOA'\n",
    "\n",
    "with open('yahoo_finance_data.txt', 'r') as f:\n",
    "    symbols = [line.strip() for line in f]\n",
    "\n",
    "data = {}\n",
    "count = 0\n",
    "lst=[]\n",
    "df = pd.DataFrame()\n",
    "with requests.Session() as s:\n",
    "    for symbol in symbols:\n",
    "        download = s.get(CSV_URL.format(symbol))\n",
    "        decoded_content = download.content.decode('utf-8')\n",
    "        cr = csv.reader(decoded_content.splitlines(), delimiter=',')\n",
    "        my_list = list(cr)\n",
    "        data[symbol] = my_list\n",
    "        lst.append(my_list[0])\n",
    "        count+=1\n",
    "        print(count)\n",
    "\n",
    "df['Symbols']=symbols\n",
    "df['Content']= lst\n",
    "\n",
    "print(df)\n"
   ]
  }
 ],
 "metadata": {
  "kernelspec": {
   "display_name": "Python 3",
   "language": "python",
   "name": "python3"
  },
  "language_info": {
   "codemirror_mode": {
    "name": "ipython",
    "version": 3
   },
   "file_extension": ".py",
   "mimetype": "text/x-python",
   "name": "python",
   "nbconvert_exporter": "python",
   "pygments_lexer": "ipython3",
   "version": "3.11.3"
  },
  "orig_nbformat": 4
 },
 "nbformat": 4,
 "nbformat_minor": 2
}

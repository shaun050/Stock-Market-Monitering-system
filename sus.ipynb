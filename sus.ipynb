{
 "cells": [
  {
   "cell_type": "code",
   "execution_count": null,
   "metadata": {},
   "outputs": [
    {
     "ename": "",
     "evalue": "",
     "output_type": "error",
     "traceback": [
      "\u001b[1;31mRunning cells with 'c:\\Users\\shaun\\AppData\\Local\\Microsoft\\WindowsApps\\python3.11.exe' requires the ipykernel package.\n",
      "\u001b[1;31mRun the following command to install 'ipykernel' into the Python environment. \n",
      "\u001b[1;31mCommand: 'c:/Users/shaun/AppData/Local/Microsoft/WindowsApps/python3.11.exe -m pip install ipykernel -U --user --force-reinstall'"
     ]
    }
   ],
   "source": [
    "import requests\n",
    "import csv\n",
    "\n",
    "CSV_URL = 'https://www.alphavantage.co/query?function=TIME_SERIES_INTRADAY_EXTENDED&symbol={}&interval=15min&slice=year1month1&apikey=LEDOEFY0L5JHXGOA'\n",
    "\n",
    "symbols = ['TFX', 'TG', 'TGAA', 'TGAAU', 'TGAAW', 'TGAN', 'TGB', 'TGH', 'TGH^A', 'TGH^B', 'TGI', 'TGL', 'TGLS', 'TGNA', 'TGR', 'TGS', 'TGT', 'TGTX', 'TGVC', 'TGVCW', 'TH', 'THC', 'THCH', 'THCHW', 'THCP', 'THCPU', 'THCPW', 'THFF', 'THG', 'THM', 'THMO', 'THO', 'THQ', 'THR', 'THRD', 'THRM', 'THRN', 'THRX', 'THRY', 'THS', 'THTX', 'THW', 'THWWW', 'TIGO', 'TIGR', 'TIL', 'TILE', 'TIMB', 'TIO', 'TIPT', 'TIRX', 'TISI', 'TITN', 'TIVC', 'TIXT', 'TJX', 'TK', 'TKAT', 'TKC', 'TKLF', 'TKNO', 'TKR', 'TLF', 'TLGY', 'TLGYU', 'TLIS', 'TLK', 'TLRY', 'TLS', 'TLSA', 'TLYS', 'TM', 'TMBR', 'TMC', 'TMCI', 'TMCWW', 'TMDX', 'TME', 'TMHC', 'TMKR', 'TMKRU', 'TMKRW', 'TMO', 'TMP', 'TMPO', 'TMPOW', 'TMQ', 'TMST', 'TMTC', 'TMTCR', 'TMTCU', 'TMUS', 'TNC', 'TNDM', 'TNET', 'TNGX', 'TNK', 'TNL', 'TNON', 'TNP', 'TNP^D', 'TNP^E', 'TNP^F', 'TNXP', 'TNYA', 'TOAC', 'TOACU', 'TOI', 'TOL', 'TOMZ', 'TOP', 'TOPS', 'TORO', 'TOST', 'TOUR', 'TOVX', 'TOWN', 'TPB', 'TPC', 'TPCS', 'TPET', 'TPG', 'TPH', 'TPHS', 'TPIC', 'TPL', 'TPR', 'TPST', 'TPTA', 'TPVG', 'TPX', 'TPZ', 'TR', 'TRC', 'TRCA', 'TRDA', 'TREE', 'TREX', 'TRGP', 'TRHC', 'TRI', 'TRIB', 'TRIN', 'TRINL', 'TRIP', 'TRIS', 'TRKA', 'TRKAW', 'TRMB', 'TRMD', 'TRMK', 'TRMR', 'TRN', 'TRNO', 'TRNR', 'TRNS', 'TRON', 'TRONW', 'TROO', 'TROW', 'TROX', 'TRP', 'TRS', 'TRST', 'TRT', 'TRTL', 'TRTN', 'TRTN^A', 'TRTN^B', 'TRTN^C', 'TRTN^D', 'TRTN^E', 'TRTX', 'TRTX^C', 'TRU', 'TRUE', 'TRUP', 'TRV', 'TRVG', 'TRVI', 'TRVN', 'TRX', 'TS', 'TSAT', 'TSBK', 'TSCO', 'TSE', 'TSEM', 'TSHA', 'TSI', 'TSLA', 'TSLX', 'TSM', 'TSN', 'TSP', 'TSQ', 'TSRI', 'TSVT', 'TT', 'TTC', 'TTCF', 'TTD', 'TTE', 'TTEC', 'TTEK', 'TTGT', 'TTI', 'TTMI', 'TTNP', 'TTOO', 'TTP', 'TTSH', 'TTWO', 'TU', 'TUP', 'TURN', 'TUSK', 'TUYA', 'TV', 'TVC', 'TVE', 'TVTX', 'TW', 'TWCB', 'TWCBW', 'TWI', 'TWIN', 'TWKS', 'TWLO', 'TWLV', 'TWLVW', 'TWN', 'TWNK', 'TWO', 'TWO^A', 'TWO^B', 'TWO^C', 'TWOA', 'TWOU', 'TWST', 'TX', 'TXG', 'MD', 'TXN', 'TXRH', 'TXT', 'G', 'TYHT', 'TYL', 'TYME', 'TZOO', 'TZPS', 'TZPSU', 'TZPSW', 'U', 'UA', 'UAA', 'UAL', 'UAMY', 'UAN', 'UAVS', 'UBA', 'UBCP', 'UBER', 'UBFO', 'UBOH', 'UBP', 'UBP^H', 'UBP^K', 'UBS', 'UBSI', 'UBX', 'UCBI', 'UCBIO', 'UCL', 'UCTT', 'UDR', 'UE', 'UEC', 'UEIC', 'UEPS', 'UFAB', 'UFCS', 'UFI', 'UFPI', 'UFPT', 'UFS', 'UG', 'UGI', 'UGP', 'UHAL', 'UHS', 'UHT', 'UI', 'UIHC', 'UIS', 'UK', 'UKOMW', 'UL', 'ULBI', 'ULH', 'ULTA', 'UMAR', 'UMBF', 'UMC', 'UMH', 'UMH^C', 'UMH^D', 'UMPQ', 'UNAM', 'UNB', 'UNF', 'UNFI', 'UNH', 'UNIT', 'UNM', 'UNMA', 'UNOV', 'UNP', 'UNTY', 'UNVR', 'UONE', 'UONEK', 'UPC', 'UPL', 'UPST', 'UPWK', 'URBN', 'URG', 'URGN', 'URI', 'UROY', 'USA', 'USAC', 'USAP', 'USAS', 'USAU', 'USB', 'USB^A', 'USB^H', 'USB^P', 'USB^Q', 'USB^R', 'USB^S', 'USCB', 'USCTU', 'USCTW', 'USDP', 'USEA', 'USEG', 'USFD', 'USGO', 'USGOW', 'USIO', 'USLM', 'USM', 'USNA', 'USPH', 'USX', 'UTAA', 'UTAAW', 'UTF', 'UTG', 'UTHR', 'UTI', 'UTL', 'UTMD', 'UTME', 'UTRS', 'UTSI', 'UTZ', 'UUU', 'UUUU', 'UVE', 'UVSP', 'UVV', 'UWMC', 'UXIN', 'UZD', 'UZE', 'UZF', 'V', 'VABK', 'VAC', 'VACC', 'VAL', 'VALE', 'VALN', 'VALU', 'VANI', 'VAPO', 'VATE', 'VAXX', 'VBF', 'VBFC', 'VBIV', 'VBLT', 'VBNK', 'VBOC', 'VBOCU', 'VBOCW', 'VBTX', 'VC', 'VCEL', 'VCIF', 'VCIG', 'VCNX', 'VCSA', 'VCTR', 'VCV', 'VCXA', 'VCXAU', 'VCXAW', 'VCXB', 'VCYT', 'VECO', 'VECT', 'VEDU', 'VEEE', 'VEEV', 'VEL', 'VEON', 'VERA', 'VERB', 'VERBW', 'VERI', 'VERO', 'VERU', 'VERV', 'VERX', 'VERY', 'VET', 'VEV', 'VFC', 'VFF', 'VFL', 'VGAS', 'VGASW', 'VGI', 'VGM', 'VGR', 'VGZ', 'VHAQ', 'VHC', 'VHI', 'VHNA', 'VHNAW', 'VIA', 'VIAO', 'VIASP', 'VIAV', 'VICI', 'VICR', 'VIEW', 'VIEWW', 'VIGL', 'VII', 'VIIAW', 'VINC', 'VINE', 'VINO', 'VINP', 'VIOT', 'VIPS', 'VIR', 'VIRC', 'VIRI', 'VIRT', 'VIRX', 'VISL', 'VIST', 'VITL', 'VIV', 'VIVK', 'VJET', 'VKI', 'VKQ', 'VKTX', 'VLCN', 'VLD', 'VLGEA', 'VLN', 'VLO', 'VLRS', 'VLT', 'VLY', 'VLYPO', 'VLYPP', 'VMAR', 'VMC', 'VMD', 'VMI', 'VMM', 'VMO', 'VMW', 'VNCE', 'VNDA', 'VNE', 'VNET', 'VNLA', 'VNM', 'VNO', 'VNO^K', 'VNO^L', 'VNO^M', 'VNOM', 'VNQI', 'VNRX', 'VNT', 'VNTR', 'VOC', 'VOD', 'VOLT', 'VOR', 'VOSOU', 'VOXX', 'VOYA', 'VOYA^B', 'VPG', 'VPV', 'VRA', 'VRAY', 'VRCA', 'VREX', 'VRM', 'VRME', 'VRMEW', 'VRNA', 'VRNS', 'VRNT', 'VRRM', 'VRS', 'VRSK', 'VRSN', 'VRT', 'VRTS', 'VRTV', 'VRTX', 'VS', 'VSAT', 'VSEC', 'VSH', 'VSPR', 'VSPRU', 'VSPRW', 'VSSYW', 'VST', 'VSTA', 'VSTM', 'VSTO', 'VTA', 'VTAQ', 'VTAQR', 'VTAQU', 'VTAQW', 'VTEC', 'VTGN', 'VTIQ', 'VTIQU', 'VTIQW', 'VTN', 'VTNR', 'VTOL', 'VTR', 'VTRS', 'VTRU', 'VTSI', 'VTVT', 'VUZI', 'VVI', 'VVNT', 'VVOS', 'VVPR', 'VVR', 'VVV', 'VXRT', 'VYGG', 'VYGGW', 'VYGR', 'VYNE', 'VZ', 'W', 'WAB', 'WABC', 'WAFD', 'WAFDP', 'WAFU', 'WAL', 'WALA', 'WASH', 'WAT', 'WATT', 'WB', 'WBA', 'WBAI', 'WBK', 'WBS', 'WBS^F', 'WBT', 'WCC', 'WCC^A', 'WCN', 'WD', 'WDAY', 'WDC', 'WDFC', 'WDR', 'WEA', 'WEC', 'WEI', 'WELL', 'WEN', 'WERN', 'WES', 'WETF', 'WEX', 'WEYS', 'WF', 'WFC', 'WFC^A', 'WFC^C', 'WFC^L', 'WFC^N', 'WFC^O', 'WFC^P', 'WFC^Q', 'WFC^R', 'WFC^T', 'WFC^V', 'WFC^W', 'WFC^X', 'WFC^Y', 'WFC^Z', 'WGO', 'WH', 'WHD', 'WHF', 'WHG', 'WHLM', 'WHLR', 'WHLRD', 'WHLRL', 'WHLRP', 'WHR', 'WIA', 'WILC', 'WIMI', 'WINA', 'WING', 'WINT', 'WINVR', 'WIRE', 'WISA', 'WISH', 'WIT', 'WIW', 'WIX', 'WK', 'WKEY', 'WKHS', 'WKME', 'WKSP', 'WKSPW', 'WLDN', 'WLDS', 'WLDSW', 'WLFC', 'WLGS', 'WLK', 'WLKP', 'WLMS', 'WLY', 'WLYB', 'WM', 'WMB', 'WMC', 'WMG', 'WMK', 'WMPN', 'WMS', 'WMT', 'WNC', 'WNEB', 'WNNR', 'WNS', 'WNW', 'WOLF', 'WOOF', 'WOR', 'WORX', 'WOW', 'WPC', 'WPM', 'WPP', 'WPRT', 'WRAC', 'WRAP', 'WRB', 'WRB^E', 'WRB^F', 'WRB^G', 'WRB^H', 'WRBY', 'WRK', 'WRLD', 'WRN', 'WSBC', 'WSBCP', 'WSBF', 'WSC', 'WSFS', 'WSM', 'WSO', 'WSO/B', 'WSR', 'WST', 'WT', 'WTBA', 'WTER', 'WTFC', 'WTFCM', 'WTFCP', 'WTI', 'WTM', 'WTRE', 'WTREP', 'WTRG', 'WTRH', 'WTRU', 'WTS', 'WTT', 'WTTR', 'WU', 'WUGI', 'WVE', 'WVFC', 'WVVI', 'WVVIP', 'WW', 'WWD', 'WWE', 'WWR', 'WWW', 'WY', 'WYND', 'WYNN', 'WYY', 'X', 'XAIR', 'XAN', 'XAN^C', 'XBIO', 'XBIOW', 'XBIT', 'XCUR', 'XEC', 'XEL', 'XELA', 'XELB', 'XENE', 'XENT', 'XERS', 'XFLT', 'XFOR', 'XGN', 'XHR', 'XIN', 'XL', 'XLNX', 'XLRN', 'XLSA', 'XM', 'XNCR', 'XNET', 'XOG', 'XOM', 'XOMA', 'XONE', 'XP', 'XPDI', 'XPDIU', 'XPDIW', 'XPEL', 'XPER', 'XPEV', 'XPL', 'XPO', 'XPOA', 'XPOA+', 'XPOA=', 'XRAY', 'XRX', 'XSPA', 'XTLB', 'XTNT', 'XXII', 'XYF', 'XYL', 'Y', 'YAC', 'YAC+', 'YAC=', 'YALA', 'YCBD', 'YCBD^A', 'YDEC', 'YELP', 'YETI', 'YEXT', 'YGMZ', 'YI', 'YJ', 'YMAB', 'YMTX', 'YNDX', 'YOGA', 'YORW', 'YPF', 'YQ', 'YRCW', 'YRD', 'YSAC', 'YSACU', 'YSACW', 'YSG', 'YTEN', 'YTRA', 'YUM', 'YUMC', 'YVR', 'YY', 'Z', 'ZAGG', 'ZBH', 'ZBRA', 'ZCMD', 'ZDGE', 'ZEAL', 'ZEN', 'ZEPP', 'ZEUS', 'ZG', 'ZGNX', 'ZGYH', 'ZGYHR', 'ZGYHU', 'ZGYHW', 'ZI', 'ZION', 'ZIONL', 'ZIONN', 'ZIONO', 'ZIONP', 'ZIOP', 'ZIXI', 'ZKIN', 'ZLAB', 'ZM', 'ZNGA', 'ZNH', 'ZNTE', 'ZNTEU', 'ZNTEW', 'ZNTL', 'ZOM', 'ZS', 'ZSAN', 'ZT', 'ZTO', 'ZTR', 'ZTS', 'ZUMZ', 'ZUO', 'ZVO', 'ZYME', 'ZYNE', 'ZYXI']\n",
    "data = {}\n",
    "\n",
    "with requests.Session() as s:\n",
    "    for symbol in symbols:\n",
    "        download = s.get(CSV_URL.format(symbol))\n",
    "        decoded_content = download.content.decode('utf-8')\n",
    "        cr = csv.reader(decoded_content.splitlines(), delimiter=',')\n",
    "        my_list = list(cr)\n",
    "        data[symbol] = my_list"
   ]
  }
 ],
 "metadata": {
  "kernelspec": {
   "display_name": "Python 3",
   "language": "python",
   "name": "python3"
  },
  "language_info": {
   "name": "python",
   "version": "3.11.3"
  },
  "orig_nbformat": 4
 },
 "nbformat": 4,
 "nbformat_minor": 2
}
